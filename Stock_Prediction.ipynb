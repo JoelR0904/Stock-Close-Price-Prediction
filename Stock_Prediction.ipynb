{
 "cells": [
  {
   "cell_type": "markdown",
   "id": "594a5e47-0f6b-45ab-bc2e-426002dd0a39",
   "metadata": {},
   "source": [
    "# STAGE 4 - Predicting Stock Close Price Using Machine Learning and Time Series Models"
   ]
  },
  {
   "cell_type": "markdown",
   "id": "bd8503b6-0d04-402e-9823-618179e51297",
   "metadata": {},
   "source": [
    "**Import Libraries**\n",
    "\n",
    "\r\n",
    "- **`pymysql`**: Connects and interacts with the MySQL database.\r\n",
    "- **`pandas`**: Handles data manipulation and analysis, particularly with time-series data.\r\n",
    "- **`numpy`**: Performs numerical computations and operations on data.\r\n",
    "- **`sklearn.model_selection.train_test_split`**: Splits data into training and testing sets for machine learning models.\r\n",
    "- **`sklearn.linear_model.LinearRegression`**: Implements linear regression for predicting stock prices.\r\n",
    "- **`sklearn.metrics.mean_absolute_error`**: Evaluates model performance by calculating Mean Absolute Error.\r\n",
    "- **`sklearn.metrics.mean_squared_error`**: Evaluates model performance by calculating Mean Squared Error.\r\n",
    "- **`xgboost.XGBRegressor`**: Implements XGBoost for regression tasks, particularly for stock price prediction.\r\n",
    "- **`statsmodels.tsa.arima.model.ARIMA`**: Implements ARIMA model for time-series forecasting.\r\n",
    "- **`sklearn.ensemble.RandomForestRegressor`**: Implements Random Forest for regression tasks to predict stock prices.\r\n",
    "- **`datetime`**: Handles date and time operations for calculating date ranges.\r\n",
    "- **`timedelta`**: Represents durations of time, used for date calculations.\r\n",
    "- **`warnings`**: Suppresses specific warnings in the code to cle learning models."
   ]
  },
  {
   "cell_type": "code",
   "execution_count": 1,
   "id": "3294b9b2-e48d-487a-ba9f-e3670de6a398",
   "metadata": {},
   "outputs": [],
   "source": [
    "import pymysql  # MySQL connection\n",
    "import pandas as pd\n",
    "import numpy as np\n",
    "from sklearn.model_selection import train_test_split\n",
    "from sklearn.linear_model import LinearRegression\n",
    "from sklearn.metrics import mean_absolute_error, mean_squared_error\n",
    "from xgboost import XGBRegressor\n",
    "from statsmodels.tsa.arima.model import ARIMA\n",
    "from sklearn.ensemble import RandomForestRegressor\n",
    "from datetime import datetime, timedelta\n",
    "import warnings"
   ]
  },
  {
   "cell_type": "code",
   "execution_count": 2,
   "id": "e96e7803-7050-4ab2-a153-b93f8f311a0a",
   "metadata": {},
   "outputs": [],
   "source": [
    "# Suppress warnings\n",
    "warnings.filterwarnings(\"ignore\", category=UserWarning)"
   ]
  },
  {
   "cell_type": "markdown",
   "id": "e72e2013-811b-4563-a298-1e1c13049035",
   "metadata": {},
   "source": [
    "**Connect to MySQL and Load Data**\r\n",
    "\r\n",
    "- **Purpose**: This function connects to a MySQL database, fetches stock data for a given company (from the last `days`), and cleans the data.\r\n",
    "- **Process**:\r\n",
    "  1. Establishes a connection to MySQL.\r\n",
    "  2. Queries the stock data for the last `days` from the specified table.\r\n",
    "  3. Removes commas from numeric columns and converts them to numeric format.\r\n",
    "  4. Returns the cleaned stock data.\r\n",
    "- **Error Handling**: Catches MySQL errors if the connection or query fails."
   ]
  },
  {
   "cell_type": "code",
   "execution_count": 3,
   "id": "9ed95406-1783-4af2-ac7a-2f1a2b8c7994",
   "metadata": {},
   "outputs": [],
   "source": [
    "# Step 1: Connect to MySQL and load the data\n",
    "def load_data(table_name, days=1000):\n",
    "    try:\n",
    "        # Connect to MySQL using pymysql\n",
    "        conn = pymysql.connect(host=\"localhost\", user=\"root\", password=\"Onmyway09@\", database=\"STOCK_PREDICTION\")\n",
    "        \n",
    "        # Fetch last `days` of stock data\n",
    "        date_from = (datetime.now() - timedelta(days=days)).strftime(\"%Y-%m-%d\")\n",
    "        \n",
    "        # Query for stock data\n",
    "        stock_query = f\"SELECT `Date`, `OPEN`, `HIGH`, `LOW`, `PREV. CLOSE`, `close`, `VOLUME` FROM {table_name} WHERE Date >= '{date_from}'\"\n",
    "        stock_data = pd.read_sql(stock_query, conn)\n",
    "        \n",
    "        # Close the connection\n",
    "        conn.close()\n",
    "\n",
    "        # Handle columns that may contain commas in numeric data\n",
    "        numeric_columns = ['OPEN', 'HIGH', 'LOW', 'PREV. CLOSE', 'close', 'VOLUME']\n",
    "        for col in numeric_columns:\n",
    "            if col in stock_data.columns:\n",
    "                stock_data[col] = stock_data[col].replace({',': ''}, regex=True)  # Remove commas\n",
    "                stock_data[col] = pd.to_numeric(stock_data[col], errors='coerce')  # Convert to numeric (with coercion for errors)\n",
    "\n",
    "        # Return the cleaned data\n",
    "        return stock_data\n",
    "    except pymysql.MySQLError as err:\n",
    "        print(f\"An error occurred while connecting to MySQL: {err}\")\n",
    "        return None"
   ]
  },
  {
   "cell_type": "markdown",
   "id": "3a435793-85dd-46e3-b4c6-452fd9d05b33",
   "metadata": {},
   "source": [
    "**Feature Engineering**\r\n",
    "\r\n",
    "- **Purpose**: Prepares the stock data by setting a date index and creating new features for modeling.\r\n",
    "- **Process**:\r\n",
    "  1. Converts the 'Date' column to datetime and sets it as the index.\r\n",
    "  2. Sorts the data by date and assigns a daily frequency to the index.\r\n",
    "  3. Renames the 'PREV. CLOSE' column to 'Prev Close' for easier use.\r\n",
    "  4. Drops rows with missing values.\r\n",
    "- **Output**: Returns the cleaned and processed data with the necessary features for modeling."
   ]
  },
  {
   "cell_type": "code",
   "execution_count": 4,
   "id": "5bacd3de-051a-4377-b757-faf51f320fd9",
   "metadata": {},
   "outputs": [],
   "source": [
    "# Step 2: Feature Engineering\n",
    "def feature_engineering(data):\n",
    "    data['Date'] = pd.to_datetime(data['Date'])\n",
    "    data.set_index('Date', inplace=True)\n",
    "    data.sort_values('Date', inplace=True)\n",
    "\n",
    "    # Assign a frequency to the index (daily frequency)\n",
    "    if not data.index.freq:\n",
    "        data = data.asfreq('D')\n",
    "\n",
    "    data['Prev Close'] = data['PREV. CLOSE']  # Rename for easier use\n",
    "    data.dropna(inplace=True)  # Drop any rows with missing values\n",
    "    return data"
   ]
  },
  {
   "cell_type": "markdown",
   "id": "facaf5d4-2f8f-4383-9fe2-2fb093df15a7",
   "metadata": {},
   "source": [
    "**Prepare the Data for Modeling**\r\n",
    "\r\n",
    "- **Purpose**: Splits the data into features (X) and target variable (y) for machine learning models.\r\n",
    "- **Process**:\r\n",
    "  1. Selects relevant features: 'OPEN', 'HIGH', 'LOW', 'VOLUME', and 'Prev Close'.\r\n",
    "  2. Defines 'close' as the target variable (y).\r\n",
    "- **Output**: Returns two variables: `X` (features) and `y` (target)."
   ]
  },
  {
   "cell_type": "code",
   "execution_count": 5,
   "id": "9e9ddcdd-3248-4145-bb1c-e9d4cf93de29",
   "metadata": {},
   "outputs": [],
   "source": [
    "# Step 3: Prepare the data for modeling\n",
    "def prepare_data(data):\n",
    "    features = ['OPEN', 'HIGH', 'LOW', 'VOLUME', 'Prev Close']\n",
    "    X = data[features]\n",
    "    y = data['close']  # Target variable\n",
    "    return X, y"
   ]
  },
  {
   "cell_type": "markdown",
   "id": "57119ec8-29a7-4ad5-975a-9743ec3add5e",
   "metadata": {},
   "source": [
    "**Linear Regression Model**\r\n",
    "\r\n",
    "- **Purpose**: Fits a Linear Regression model to the training data and evaluates its performance.\r\n",
    "- **Process**:\r\n",
    "  1. Initializes and fits a Linear Regression model to the training data (`X_train`, `y_train`).\r\n",
    "  2. Predicts the target values (`y_pred`) using the test data (`X_test`).\r\n",
    "  3. Calculates the Mean Absolute Error (MAE) and Root Mean Squared Error (RMSE) to evaluate the model’s performance.\r\n",
    "- **Output**: Returns the trained Linear Regression model and prints the MAE and RMSE metrics."
   ]
  },
  {
   "cell_type": "code",
   "execution_count": 6,
   "id": "49f5cd61-0e11-43f6-9c15-baf8f4f43ef2",
   "metadata": {},
   "outputs": [],
   "source": [
    "# Step 4: Linear Regression Model\n",
    "def linear_regression_model(X_train, y_train, X_test, y_test):\n",
    "    model = LinearRegression()\n",
    "    model.fit(X_train, y_train)\n",
    "    y_pred = model.predict(X_test)\n",
    "    mae = mean_absolute_error(y_test, y_pred)\n",
    "    rmse = np.sqrt(mean_squared_error(y_test, y_pred))\n",
    "    print(f\"Linear Regression MAE: {mae}, RMSE: {rmse}\")\n",
    "    return model"
   ]
  },
  {
   "cell_type": "markdown",
   "id": "1e23c816-5a49-49d0-b9a0-2462403eb972",
   "metadata": {},
   "source": [
    "**XGBoost Model**\r\n",
    "\r\n",
    "- **Purpose**: Fits an XGBoost regression model to the training data and evaluates its performance.\r\n",
    "- **Process**:\r\n",
    "  1. Initializes and trains the XGBoost model with 500 estimators and a fixed random state.\r\n",
    "  2. Predicts the target values (`y_pred`) using the test data (`X_test`).\r\n",
    "  3. Calculates the Mean Absolute Error (MAE) and Root Mean Squared Error (RMSE) to evaluate the model’s accuracy.\r\n",
    "- **Output**: Returns the trained XGBoost model and prints the MAE and RMSE metrics."
   ]
  },
  {
   "cell_type": "code",
   "execution_count": 7,
   "id": "3a058a73-8eaf-4aa7-9fb2-15ca6ffed0e0",
   "metadata": {},
   "outputs": [],
   "source": [
    "# Step 5: XGBoost Model\n",
    "def xgboost_model(X_train, y_train, X_test, y_test):\n",
    "    model = XGBRegressor(n_estimators=500, random_state=42)\n",
    "    model.fit(X_train, y_train)\n",
    "    y_pred = model.predict(X_test)\n",
    "    mae = mean_absolute_error(y_test, y_pred)\n",
    "    rmse = np.sqrt(mean_squared_error(y_test, y_pred))\n",
    "    print(f\"XGBoost MAE: {mae}, RMSE: {rmse}\")\n",
    "    return model"
   ]
  },
  {
   "cell_type": "markdown",
   "id": "8a180f55-ac8c-4f4d-937c-7c6ab5d4fef1",
   "metadata": {},
   "source": [
    "**Time Series Forecasting using ARIMA**\r\n",
    "\r\n",
    "- **Purpose**: Uses the ARIMA model to forecast the stock’s closing price.\r\n",
    "- **Process**:\r\n",
    "  1. Ensures the data is sorted by date and the datetime index is properly set to daily frequency.\r\n",
    "  2. Selects the `close` price for forecasting.\r\n",
    "  3. Fits an ARIMA model with order (5, 1, 0) to the closing prices.\r\n",
    "  4. Forecasts the next day’s closing price using the trained model.\r\n",
    "- **Output**: Returns the predicted closing price for the next day and prints the forecast."
   ]
  },
  {
   "cell_type": "code",
   "execution_count": 8,
   "id": "406b5c9a-f5ef-4da1-b6c3-deb47d6f540f",
   "metadata": {},
   "outputs": [],
   "source": [
    "# Step 6: Time Series Forecasting using ARIMA\n",
    "def time_series_forecasting(data):\n",
    "    try:\n",
    "        # Ensure the data is sorted by date\n",
    "        data = data.sort_index()\n",
    "\n",
    "        # Set the frequency of the datetime index\n",
    "        data.index = pd.to_datetime(data.index)\n",
    "        data = data.asfreq('D')\n",
    "\n",
    "        close_prices = data['close']\n",
    "        model = ARIMA(close_prices, order=(5, 1, 0))\n",
    "        model_fit = model.fit()\n",
    "        \n",
    "        forecast = model_fit.forecast(steps=1)\n",
    "        print(\"ARIMA Forecast:\", forecast)\n",
    "        \n",
    "        return forecast.iloc[0]\n",
    "    except Exception as e:\n",
    "        print(f\"ARIMA Error: {e}\")\n",
    "        return None"
   ]
  },
  {
   "cell_type": "markdown",
   "id": "0edcc837-50c0-41be-8dfe-d9b0fcaa346e",
   "metadata": {},
   "source": [
    "**Random Forest Model**\r\n",
    "\r\n",
    "- **Purpose**: Applies the Random Forest Regressor to predict the stock’s closing price.\r\n",
    "- **Process**:\r\n",
    "  1. Initializes the RandomForestRegressor with 500 estimators and a fixed random seed.\r\n",
    "  2. Fits the model to the training data (`X_train`, `y_train`).\r\n",
    "  3. Predicts the closing price on the test data (`X_test`).\r\n",
    "  4. Evaluates the model using Mean Absolute Error (MAE) and Root Mean Squared Error (RMSE).\r\n",
    "- **Output**: Prints MAE and RMSE values to assess model performance and returns the trained model."
   ]
  },
  {
   "cell_type": "code",
   "execution_count": 9,
   "id": "704ee0b0-81fb-4630-a85e-4413f240a06e",
   "metadata": {},
   "outputs": [],
   "source": [
    "# Step 7: Random Forest Model\n",
    "def random_forest_model(X_train, y_train, X_test, y_test):\n",
    "    model = RandomForestRegressor(n_estimators=500, random_state=42)\n",
    "    model.fit(X_train, y_train)\n",
    "    y_pred = model.predict(X_test)\n",
    "    mae = mean_absolute_error(y_test, y_pred)\n",
    "    rmse = np.sqrt(mean_squared_error(y_test, y_pred))\n",
    "    print(f\"Random Forest MAE: {mae}, RMSE: {rmse}\")\n",
    "    return model"
   ]
  },
  {
   "cell_type": "markdown",
   "id": "00c3851d-49f8-4123-aef8-1dab7ca5f1a9",
   "metadata": {},
   "source": [
    "The `main` function allows users to predict a company's stock price using multiple models.\r\n",
    "\r\n",
    "1. **User Input**: \r\n",
    "   - Enter a company name and number of days for data (default 1000 days).\r\n",
    "   \r\n",
    "2. **Data Loading**:\r\n",
    "   - Loads stock data for the company using `load_data` function.\r\n",
    "\r\n",
    "3. **Feature Engineering**:\r\n",
    "   - Prepares the data by cleaning and sorting it.\r\n",
    "\r\n",
    "4. **Model Predictions**:\r\n",
    "   - Runs predictions using:\r\n",
    "     - **Linear Regression**\r\n",
    "     - **XGBoost**\r\n",
    "     - **Random Forest**\r\n",
    "     - **ARIMA (Time Series)**\r\n",
    "\r\n",
    "5. **Results Display**:\r\n",
    "   - Shows predictions from each model.\r\n",
    "\r\n",
    "6. **Error Handling**: \r\n",
    "   - Catches and prints any errors.\r\n",
    "\r\n",
    "The function loops until the user types \"stop\" or \"exit\"."
   ]
  },
  {
   "cell_type": "code",
   "execution_count": null,
   "id": "2e53fe47-b285-4d27-bd00-1aa205f15520",
   "metadata": {},
   "outputs": [
    {
     "name": "stdin",
     "output_type": "stream",
     "text": [
      "Enter the Company Name (or type 'stop' or 'exit' to end): indian_hotels\n",
      "Enter the Number of Days for Data Analysis (default: 1000): \n"
     ]
    },
    {
     "name": "stdout",
     "output_type": "stream",
     "text": [
      "\n",
      "Selected Company: indian_hotels\n",
      "Fetching data for the last 1000 days...\n",
      "\n",
      "\n",
      "--- \u001b[1mLinear Regression\u001b[0m ---\n",
      "Linear Regression MAE: 1.9002639686690457, RMSE: 2.6255859793311362\n",
      "\n",
      "--- \u001b[1mXGBoost\u001b[0m ---\n",
      "XGBoost MAE: 4.178241954130286, RMSE: 6.410708860204474\n",
      "\n",
      "--- \u001b[1mRandom Forest\u001b[0m ---\n",
      "Random Forest MAE: 3.727747794117566, RMSE: 5.977995303703566\n",
      "\n",
      "--- \u001b[1mARIMA Time Series Forecasting\u001b[0m ---\n",
      "ARIMA Forecast: 2024-11-27    798.14264\n",
      "Freq: D, dtype: float64\n",
      "\n",
      "--- \u001b[1mModel Predictions\u001b[0m ---\n",
      "Linear Regression: 794.0386964721565\n",
      "XGBoost: 796.74853515625\n",
      "Random Forest: 793.8818999999982\n",
      "ARIMA: 798.1426399032409\n",
      "\n",
      "--- \u001b[1mEnd of Predictions\u001b[0m ---\n",
      "\n",
      "\n"
     ]
    },
    {
     "name": "stdin",
     "output_type": "stream",
     "text": [
      "Enter the Company Name (or type 'stop' or 'exit' to end): Tata_Motors\n",
      "Enter the Number of Days for Data Analysis (default: 1000): \n"
     ]
    },
    {
     "name": "stdout",
     "output_type": "stream",
     "text": [
      "\n",
      "Selected Company: Tata_Motors\n",
      "Fetching data for the last 1000 days...\n",
      "\n",
      "\n",
      "--- \u001b[1mLinear Regression\u001b[0m ---\n",
      "Linear Regression MAE: 3.2401048517287863, RMSE: 4.613972673397773\n",
      "\n",
      "--- \u001b[1mXGBoost\u001b[0m ---\n",
      "XGBoost MAE: 5.785230838551244, RMSE: 9.291524365670181\n",
      "\n",
      "--- \u001b[1mRandom Forest\u001b[0m ---\n",
      "Random Forest MAE: 4.731217647058826, RMSE: 6.925359693355535\n",
      "\n",
      "--- \u001b[1mARIMA Time Series Forecasting\u001b[0m ---\n",
      "ARIMA Forecast: 2024-11-27    783.338802\n",
      "Freq: D, dtype: float64\n",
      "\n",
      "--- \u001b[1mModel Predictions\u001b[0m ---\n",
      "Linear Regression: 788.0231049951979\n",
      "XGBoost: 782.999267578125\n",
      "Random Forest: 784.9977000000007\n",
      "ARIMA: 783.3388019891581\n",
      "\n",
      "--- \u001b[1mEnd of Predictions\u001b[0m ---\n",
      "\n",
      "\n"
     ]
    },
    {
     "name": "stdin",
     "output_type": "stream",
     "text": [
      "Enter the Company Name (or type 'stop' or 'exit' to end): Tata_steel\n",
      "Enter the Number of Days for Data Analysis (default: 1000): Tata_Chemicals\n"
     ]
    },
    {
     "name": "stdout",
     "output_type": "stream",
     "text": [
      "\u001b[1mInvalid input for days. Defaulting to 1000.\u001b[0m\n",
      "\n",
      "Selected Company: Tata_steel\n",
      "Fetching data for the last 1000 days...\n",
      "\n",
      "\n",
      "--- \u001b[1mLinear Regression\u001b[0m ---\n",
      "Linear Regression MAE: 1.9430208026327642, RMSE: 4.058470854326655\n",
      "\n",
      "--- \u001b[1mXGBoost\u001b[0m ---\n",
      "XGBoost MAE: 11.798353181726794, RMSE: 54.30519551632143\n",
      "\n",
      "--- \u001b[1mRandom Forest\u001b[0m ---\n",
      "Random Forest MAE: 5.035686029411819, RMSE: 17.58313795583704\n",
      "\n",
      "--- \u001b[1mARIMA Time Series Forecasting\u001b[0m ---\n",
      "ARIMA Forecast: 2024-11-27    144.161193\n",
      "Freq: D, dtype: float64\n",
      "\n",
      "--- \u001b[1mModel Predictions\u001b[0m ---\n",
      "Linear Regression: 145.0021113570471\n",
      "XGBoost: 144.46974182128906\n",
      "Random Forest: 144.53426000000047\n",
      "ARIMA: 144.16119317524937\n",
      "\n",
      "--- \u001b[1mEnd of Predictions\u001b[0m ---\n",
      "\n",
      "\n"
     ]
    },
    {
     "name": "stdin",
     "output_type": "stream",
     "text": [
      "Enter the Company Name (or type 'stop' or 'exit' to end): voltas\n",
      "Enter the Number of Days for Data Analysis (default: 1000): \n"
     ]
    },
    {
     "name": "stdout",
     "output_type": "stream",
     "text": [
      "\n",
      "Selected Company: voltas\n",
      "Fetching data for the last 1000 days...\n",
      "\n",
      "\n",
      "--- \u001b[1mLinear Regression\u001b[0m ---\n",
      "Linear Regression MAE: 6.027376691339064, RMSE: 9.619217711890059\n",
      "\n",
      "--- \u001b[1mXGBoost\u001b[0m ---\n",
      "XGBoost MAE: 9.466217400045954, RMSE: 13.18784807600276\n",
      "\n",
      "--- \u001b[1mRandom Forest\u001b[0m ---\n",
      "Random Forest MAE: 8.24087867647095, RMSE: 11.338401164584436\n",
      "\n",
      "--- \u001b[1mARIMA Time Series Forecasting\u001b[0m ---\n",
      "ARIMA Forecast: 2024-11-27    1670.364357\n",
      "Freq: D, dtype: float64\n",
      "\n",
      "--- \u001b[1mModel Predictions\u001b[0m ---\n",
      "Linear Regression: 1658.5594662924043\n",
      "XGBoost: 1674.099853515625\n",
      "Random Forest: 1670.80259999999\n",
      "ARIMA: 1670.364357022422\n",
      "\n",
      "--- \u001b[1mEnd of Predictions\u001b[0m ---\n",
      "\n",
      "\n"
     ]
    },
    {
     "name": "stdin",
     "output_type": "stream",
     "text": [
      "Enter the Company Name (or type 'stop' or 'exit' to end): trent\n",
      "Enter the Number of Days for Data Analysis (default: 1000): \n"
     ]
    },
    {
     "name": "stdout",
     "output_type": "stream",
     "text": [
      "\n",
      "Selected Company: trent\n",
      "Fetching data for the last 1000 days...\n",
      "\n",
      "\n",
      "--- \u001b[1mLinear Regression\u001b[0m ---\n",
      "Linear Regression MAE: 16.062283055791937, RMSE: 28.83702794673392\n",
      "\n",
      "--- \u001b[1mXGBoost\u001b[0m ---\n",
      "XGBoost MAE: 35.628348137350656, RMSE: 79.60699842178154\n",
      "\n",
      "--- \u001b[1mRandom Forest\u001b[0m ---\n",
      "Random Forest MAE: 26.171921323528284, RMSE: 52.15667661187141\n",
      "\n",
      "--- \u001b[1mARIMA Time Series Forecasting\u001b[0m ---\n",
      "ARIMA Forecast: 2024-11-27    6655.9954\n",
      "Freq: D, dtype: float64\n",
      "\n",
      "--- \u001b[1mModel Predictions\u001b[0m ---\n",
      "Linear Regression: 6702.552448990584\n",
      "XGBoost: 6669.34912109375\n",
      "Random Forest: 6715.754300000038\n",
      "ARIMA: 6655.995400487803\n",
      "\n",
      "--- \u001b[1mEnd of Predictions\u001b[0m ---\n",
      "\n",
      "\n"
     ]
    },
    {
     "name": "stdin",
     "output_type": "stream",
     "text": [
      "Enter the Company Name (or type 'stop' or 'exit' to end): titan\n",
      "Enter the Number of Days for Data Analysis (default: 1000): \n"
     ]
    },
    {
     "name": "stdout",
     "output_type": "stream",
     "text": [
      "\n",
      "Selected Company: titan\n",
      "Fetching data for the last 1000 days...\n",
      "\n",
      "\n",
      "--- \u001b[1mLinear Regression\u001b[0m ---\n",
      "Linear Regression MAE: 12.711164503077686, RMSE: 19.149498495780847\n",
      "\n",
      "--- \u001b[1mXGBoost\u001b[0m ---\n",
      "XGBoost MAE: 20.564092658547786, RMSE: 26.875245127677246\n",
      "\n",
      "--- \u001b[1mRandom Forest\u001b[0m ---\n"
     ]
    }
   ],
   "source": [
    "def main():\n",
    "    try:\n",
    "        while True:\n",
    "            # Get user input for table name\n",
    "            table_name = input(\"Enter the Company Name (or type 'stop' or 'exit' to end):\").strip()\n",
    "            \n",
    "            # Check for stop/exit condition\n",
    "            if table_name.lower() in [\"stop\", \"exit\"]:\n",
    "                print(\"\\n \\033[1mExiting the program. Goodbye!\\033[0m \\n\")\n",
    "                break\n",
    "\n",
    "            days_input = input(\"Enter the Number of Days for Data Analysis (default: 1000):\").strip()\n",
    "            \n",
    "            try:\n",
    "                days = int(days_input) if days_input else 1000\n",
    "            except ValueError:\n",
    "                print(\"\\033[1mInvalid input for days. Defaulting to 1000.\\033[0m\")\n",
    "                days = 1000\n",
    "            \n",
    "            print(f\"\\nSelected Company: {table_name}\")\n",
    "            print(f\"Fetching data for the last {days} days...\\n\")\n",
    "\n",
    "            # Load data\n",
    "            data = load_data(table_name, days)\n",
    "\n",
    "            if data is None or data.empty:\n",
    "                print(\"\\033[1mNo data found for the selected table. Please try again.\\n\\033[0m\")\n",
    "                continue\n",
    "\n",
    "            # Feature Engineering\n",
    "            data = feature_engineering(data)\n",
    "\n",
    "            # Prepare data\n",
    "            X, y = prepare_data(data)\n",
    "            X_train, X_test, y_train, y_test = train_test_split(X, y, test_size=0.2, random_state=42)\n",
    "\n",
    "            # Results dictionary to store model outputs\n",
    "            results = {}\n",
    "\n",
    "            # Linear Regression\n",
    "            print(\"\\n--- \\033[1mLinear Regression\\033[0m ---\")\n",
    "            lr_model = linear_regression_model(X_train, y_train, X_test, y_test)\n",
    "            lr_pred = lr_model.predict([X.iloc[-1].values])  # Ensure it's a 2D array\n",
    "            results[\"Linear Regression\"] = {\"Prediction\": lr_pred[0]}\n",
    "\n",
    "            # XGBoost\n",
    "            print(\"\\n--- \\033[1mXGBoost\\033[0m ---\")\n",
    "            xgb_model = xgboost_model(X_train, y_train, X_test, y_test)\n",
    "            xgb_pred = xgb_model.predict([X.iloc[-1].values])  # Ensure it's a 2D array\n",
    "            results[\"XGBoost\"] = {\"Prediction\": xgb_pred[0]}\n",
    "\n",
    "            # Random Forest\n",
    "            print(\"\\n--- \\033[1mRandom Forest\\033[0m ---\")\n",
    "            rf_model = random_forest_model(X_train, y_train, X_test, y_test)\n",
    "            rf_pred = rf_model.predict([X.iloc[-1].values])  # Ensure it's a 2D array\n",
    "            results[\"Random Forest\"] = {\"Prediction\": rf_pred[0]}\n",
    "\n",
    "            # ARIMA Time Series Forecasting\n",
    "            print(\"\\n--- \\033[1mARIMA Time Series Forecasting\\033[0m ---\")\n",
    "            arima_forecast = time_series_forecasting(data)\n",
    "            results[\"ARIMA\"] = {\"Prediction\": arima_forecast}\n",
    "\n",
    "            # Displaying all model predictions\n",
    "            print(\"\\n--- \\033[1mModel Predictions\\033[0m ---\")\n",
    "            for model_name, result in results.items():\n",
    "                print(f\"{model_name}: {result['Prediction']}\")\n",
    "\n",
    "            print(\"\\n--- \\033[1mEnd of Predictions\\033[0m ---\\n\\n\")\n",
    "\n",
    "    except Exception as e:\n",
    "        print(f\"An error occurred: {e}\")\n",
    "\n",
    "if __name__ == \"__main__\":\n",
    "    main()"
   ]
  }
 ],
 "metadata": {
  "kernelspec": {
   "display_name": "Python 3 (ipykernel)",
   "language": "python",
   "name": "python3"
  },
  "language_info": {
   "codemirror_mode": {
    "name": "ipython",
    "version": 3
   },
   "file_extension": ".py",
   "mimetype": "text/x-python",
   "name": "python",
   "nbconvert_exporter": "python",
   "pygments_lexer": "ipython3",
   "version": "3.12.4"
  }
 },
 "nbformat": 4,
 "nbformat_minor": 5
}
